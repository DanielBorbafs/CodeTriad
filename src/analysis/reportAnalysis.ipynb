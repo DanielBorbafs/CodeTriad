{
 "cells": [
  {
   "cell_type": "code",
   "execution_count": null,
   "id": "fbd34fac",
   "metadata": {},
   "outputs": [
    {
     "name": "stdout",
     "output_type": "stream",
     "text": [
      "['SQL Server', 'SQL Server Native Client 11.0', 'ODBC Driver 11 for SQL Server', 'ODBC Driver 17 for SQL Server', 'Microsoft Access Driver (*.mdb, *.accdb)', 'Microsoft Excel Driver (*.xls, *.xlsx, *.xlsm, *.xlsb)', 'Microsoft Access Text Driver (*.txt, *.csv)']\n"
     ]
    }
   ],
   "source": [
    "import pyodbc\n",
    "\n",
    "def connect_to_sqlserver():\n",
    "    try:\n",
    "        conn = pyodbc.connect(\n",
    "            \"Driver={ODBC Driver 17 for SQL Server};\"\n",
    "            \"Server=host.docker.internal,1433;\"\n",
    "            \"Database=EMPLOYEES;\"\n",
    "            \"Uid=sa;\"\n",
    "            \"Pwd=Sua@Senha123!;\"\n",
    "            \"Encrypt=no;\"\n",
    "            \"TrustServerCertificate=yes;\"\n",
    "            \"Connection Timeout=5;\"\n",
    "        )\n",
    "        print(\"✅ Conexão bem-sucedida!\")\n",
    "        return conn\n",
    "    except pyodbc.Error as ex:\n",
    "        print(f\"❌ Erro: {ex}\")\n",
    "        return None\n",
    "\n",
    "# Teste\n",
    "conn = connect_to_sqlserver()\n",
    "if conn:\n",
    "    cursor = conn.cursor()\n",
    "    cursor.execute(\"SELECT TOP 3 first_name FROM employees\")\n",
    "    for row in cursor:\n",
    "        print(row[0])\n",
    "    conn.close()"
   ]
  }
 ],
 "metadata": {
  "kernelspec": {
   "display_name": "Python 3",
   "language": "python",
   "name": "python3"
  },
  "language_info": {
   "codemirror_mode": {
    "name": "ipython",
    "version": 3
   },
   "file_extension": ".py",
   "mimetype": "text/x-python",
   "name": "python",
   "nbconvert_exporter": "python",
   "pygments_lexer": "ipython3",
   "version": "3.13.1"
  }
 },
 "nbformat": 4,
 "nbformat_minor": 5
}
